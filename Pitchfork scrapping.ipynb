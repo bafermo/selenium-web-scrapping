{
 "cells": [
  {
   "cell_type": "markdown",
   "metadata": {},
   "source": [
    "# Dinamic web scrapping\n",
    "## PitchFork album reviews"
   ]
  },
  {
   "cell_type": "markdown",
   "metadata": {},
   "source": [
    "#### BeautifulSoup and Selenium are our most important libraries for this application"
   ]
  },
  {
   "cell_type": "code",
   "execution_count": 9,
   "metadata": {},
   "outputs": [],
   "source": [
    "from bs4 import BeautifulSoup\n",
    "from requests import get\n",
    "import warnings\n",
    "warnings.filterwarnings(\"ignore\")\n",
    "import time\n",
    "from selenium import webdriver\n",
    "from selenium.webdriver.common.keys import Keys\n",
    "import random\n",
    "import datetime\n",
    "import pandas as pd\n",
    "from webdriver_manager.chrome import ChromeDriverManager\n"
   ]
  },
  {
   "cell_type": "markdown",
   "metadata": {},
   "source": [
    "#### Path for Chrome executable file"
   ]
  },
  {
   "cell_type": "code",
   "execution_count": 10,
   "metadata": {},
   "outputs": [],
   "source": [
    "path = \"C:/Users/bfmor/Downloads/chromedriver_win32/chromedriver.exe\""
   ]
  },
  {
   "cell_type": "markdown",
   "metadata": {},
   "source": [
    "#### Executing Chrome"
   ]
  },
  {
   "cell_type": "code",
   "execution_count": 11,
   "metadata": {},
   "outputs": [
    {
     "name": "stderr",
     "output_type": "stream",
     "text": [
      "[WDM] - Current google-chrome version is 86.0.4240\n",
      "[WDM] - Get LATEST driver version for 86.0.4240\n",
      "[WDM] - Driver [C:\\Users\\bfmor\\.wdm\\drivers\\chromedriver\\win32\\86.0.4240.22\\chromedriver.exe] found in cache\n"
     ]
    },
    {
     "name": "stdout",
     "output_type": "stream",
     "text": [
      " \n"
     ]
    }
   ],
   "source": [
    "options = webdriver.ChromeOptions()\n",
    "options.add_argument(\"--start-maximized\")\n",
    "#driver = webdriver.Chrome(path, chrome_options = options)\n",
    "driver = webdriver.Chrome(ChromeDriverManager().install())\n",
    "oldWindow = driver.current_window_handle"
   ]
  },
  {
   "cell_type": "markdown",
   "metadata": {},
   "source": [
    "#### Acessing URL - Pitchfork reviews"
   ]
  },
  {
   "cell_type": "code",
   "execution_count": 12,
   "metadata": {},
   "outputs": [],
   "source": [
    "driver.get(\"https://pitchfork.com/reviews/albums/\")"
   ]
  },
  {
   "cell_type": "markdown",
   "metadata": {},
   "source": [
    "#### Scroll document"
   ]
  },
  {
   "cell_type": "code",
   "execution_count": 13,
   "metadata": {},
   "outputs": [],
   "source": [
    "x = 0\n",
    "while x < 1:\n",
    "    \n",
    "    try:\n",
    "        anterior = driver.execute_script(\"window.scrollTo(0, document.body.scrollHeight);\")\n",
    "        altura = driver.execute_script(\"return document.body.scrollHeight\")\n",
    "        \n",
    "        if altura == anterior:\n",
    "            break\n",
    "        anterior = altura\n",
    "        \n",
    "        time.sleep(2)\n",
    "        \n",
    "    finally:\n",
    "        \n",
    "        time.sleep(2)\n",
    "        webdriver.ActionChains(driver).send_keys(Keys.ESCAPE).perform()\n",
    "        x+=1\n",
    "    "
   ]
  },
  {
   "cell_type": "markdown",
   "metadata": {},
   "source": [
    "#### Parses html into string"
   ]
  },
  {
   "cell_type": "code",
   "execution_count": 14,
   "metadata": {},
   "outputs": [],
   "source": [
    "text = driver.page_source\n",
    "parsed_content = BeautifulSoup(text, 'html.parser')\n",
    "review = parsed_content.findAll('div',{'class':'review'})"
   ]
  },
  {
   "cell_type": "markdown",
   "metadata": {},
   "source": [
    "#### Structuring lists and dataframe from general reviews list"
   ]
  },
  {
   "cell_type": "code",
   "execution_count": 15,
   "metadata": {},
   "outputs": [],
   "source": [
    "artista = []\n",
    "album = []\n",
    "genero = []\n",
    "autor_review = []\n",
    "data_review = []\n",
    "\n",
    "for i in review:\n",
    "    \n",
    "    artist = i.find('ul',{'class':'artist-list review__title-artist'}).text\n",
    "    artista.append(artist)\n",
    "\n",
    "    album_name = i.find('h2',{'class':'review__title-album'}).text\n",
    "    album.append(album_name)\n",
    "    \n",
    "    genre = i.findAll('a')[1].text\n",
    "    genero.append(genre)\n",
    "\n",
    "    author = i.find('a',{'class':'linked display-name display-name--linked'}).text.replace('by: ','')\n",
    "    autor_review.append(author)\n",
    "    \n",
    "    date = i.time.get('datetime')\n",
    "    data_review.append(date)\n",
    "    "
   ]
  },
  {
   "cell_type": "markdown",
   "metadata": {},
   "source": [
    "#### Structuring lists and dataframe from each review page content (text and rating)"
   ]
  },
  {
   "cell_type": "code",
   "execution_count": 16,
   "metadata": {},
   "outputs": [],
   "source": [
    "rating = []\n",
    "content = []\n",
    "links=[]\n",
    "\n",
    "for i in review:\n",
    "    \n",
    "    link = i.a.get('href')\n",
    "    links.append(link)\n",
    "    \n",
    "    #entra no link de cada review e pega o html\n",
    "    driver.get('https://pitchfork.com' + link)\n",
    "    text2 = driver.page_source\n",
    "    ######################################################################################################\n",
    "    \n",
    "    parsed = BeautifulSoup(text2, 'html.parser')\n",
    "    container = parsed.findAll('div',{'class':'review-detail'})\n",
    "    time.sleep(1)\n",
    "    \n",
    "    #pega nota do review\n",
    "    review_score = container[0].find('article', class_='review-detail__article container-fluid').find('div', class_='score-circle').text\n",
    "    rating.append(review_score)\n",
    "    \n",
    "    #pega texto do review\n",
    "    review_content = container[0].find('article', class_='review-detail__article container-fluid').find('div', class_='review-detail__text clearfix').text\n",
    "    content.append(review_content)\n",
    "    \n",
    "    #tempo aleatório até próxima busca\n",
    "    time.sleep(random.randint(0,2))"
   ]
  },
  {
   "cell_type": "markdown",
   "metadata": {},
   "source": [
    "#### Inputs Each review info, content and rating into dataset \"data\""
   ]
  },
  {
   "cell_type": "code",
   "execution_count": 17,
   "metadata": {},
   "outputs": [],
   "source": [
    "data = pd.DataFrame({'album':album,\n",
    "                      'artist':artista,\n",
    "                      'reviwer':autor_review,\n",
    "                      'review_date':data_review,\n",
    "                      'link':link, \n",
    "                      'genero':genero,   \n",
    "                      'rating':rating,\n",
    "                      'review_content':content})"
   ]
  },
  {
   "cell_type": "code",
   "execution_count": 18,
   "metadata": {},
   "outputs": [
    {
     "data": {
      "text/html": [
       "<div>\n",
       "<style scoped>\n",
       "    .dataframe tbody tr th:only-of-type {\n",
       "        vertical-align: middle;\n",
       "    }\n",
       "\n",
       "    .dataframe tbody tr th {\n",
       "        vertical-align: top;\n",
       "    }\n",
       "\n",
       "    .dataframe thead th {\n",
       "        text-align: right;\n",
       "    }\n",
       "</style>\n",
       "<table border=\"1\" class=\"dataframe\">\n",
       "  <thead>\n",
       "    <tr style=\"text-align: right;\">\n",
       "      <th></th>\n",
       "      <th>album</th>\n",
       "      <th>artist</th>\n",
       "      <th>reviwer</th>\n",
       "      <th>review_date</th>\n",
       "      <th>link</th>\n",
       "      <th>genero</th>\n",
       "      <th>rating</th>\n",
       "      <th>review_content</th>\n",
       "    </tr>\n",
       "  </thead>\n",
       "  <tbody>\n",
       "    <tr>\n",
       "      <th>0</th>\n",
       "      <td>Lament</td>\n",
       "      <td>Touché Amoré</td>\n",
       "      <td>Ian Cohen</td>\n",
       "      <td>2020-10-12T05:00:00</td>\n",
       "      <td>/reviews/albums/rilo-kiley-rilo-kiley/</td>\n",
       "      <td>Best New Album</td>\n",
       "      <td>8.2</td>\n",
       "      <td>Featured Tracks:Play Track“Reminders” — Touché...</td>\n",
       "    </tr>\n",
       "    <tr>\n",
       "      <th>1</th>\n",
       "      <td>Soundkeeper</td>\n",
       "      <td>Gunn-Truscinski Duo</td>\n",
       "      <td>Sam Sodomsky</td>\n",
       "      <td>2020-10-12T05:00:00</td>\n",
       "      <td>/reviews/albums/rilo-kiley-rilo-kiley/</td>\n",
       "      <td>Experimental</td>\n",
       "      <td>7.5</td>\n",
       "      <td>Featured Tracks:Play Track“For Eddie Hazel” — ...</td>\n",
       "    </tr>\n",
       "    <tr>\n",
       "      <th>2</th>\n",
       "      <td>Nothing EP</td>\n",
       "      <td>Loraine James</td>\n",
       "      <td>Philip Sherburne</td>\n",
       "      <td>2020-10-12T05:00:00</td>\n",
       "      <td>/reviews/albums/rilo-kiley-rilo-kiley/</td>\n",
       "      <td>Electronic</td>\n",
       "      <td>7.9</td>\n",
       "      <td>Featured Tracks:Play Track“Marg” [ft. Tardast]...</td>\n",
       "    </tr>\n",
       "    <tr>\n",
       "      <th>3</th>\n",
       "      <td>Love Touched Time and Time Began to Sweat</td>\n",
       "      <td>Pool Holograph</td>\n",
       "      <td>Steven Arroyo</td>\n",
       "      <td>2020-10-12T05:00:00</td>\n",
       "      <td>/reviews/albums/rilo-kiley-rilo-kiley/</td>\n",
       "      <td>Rock</td>\n",
       "      <td>7.1</td>\n",
       "      <td>Featured Tracks:Play Track“Medieval Heart” — P...</td>\n",
       "    </tr>\n",
       "    <tr>\n",
       "      <th>4</th>\n",
       "      <td>Innercity Griots</td>\n",
       "      <td>Freestyle Fellowship</td>\n",
       "      <td>Rollie Pemberton</td>\n",
       "      <td>2020-10-11T05:00:00</td>\n",
       "      <td>/reviews/albums/rilo-kiley-rilo-kiley/</td>\n",
       "      <td>Rap</td>\n",
       "      <td>9.0</td>\n",
       "      <td>A couple decades before Kendrick Lamar galvani...</td>\n",
       "    </tr>\n",
       "    <tr>\n",
       "      <th>5</th>\n",
       "      <td>Hybrid Theory (20th Anniversary Edition)</td>\n",
       "      <td>Linkin Park</td>\n",
       "      <td>Gabriel Szatan</td>\n",
       "      <td>2020-10-10T05:00:00</td>\n",
       "      <td>/reviews/albums/rilo-kiley-rilo-kiley/</td>\n",
       "      <td>Rock</td>\n",
       "      <td>7.6</td>\n",
       "      <td>Chester Bennington was 41 years old when he lo...</td>\n",
       "    </tr>\n",
       "    <tr>\n",
       "      <th>6</th>\n",
       "      <td>The Seeds of Love (Super Deluxe Edition)</td>\n",
       "      <td>Tears for Fears</td>\n",
       "      <td>Alfred Soto</td>\n",
       "      <td>2020-10-10T05:00:00</td>\n",
       "      <td>/reviews/albums/rilo-kiley-rilo-kiley/</td>\n",
       "      <td>Rock</td>\n",
       "      <td>7.2</td>\n",
       "      <td>To transform from a bedsit synth-pop outfit wi...</td>\n",
       "    </tr>\n",
       "    <tr>\n",
       "      <th>7</th>\n",
       "      <td>Diamond Life</td>\n",
       "      <td>Sade</td>\n",
       "      <td>Clover Hope</td>\n",
       "      <td>2020-10-09T05:00:00</td>\n",
       "      <td>/reviews/albums/rilo-kiley-rilo-kiley/</td>\n",
       "      <td>Pop/R&amp;B</td>\n",
       "      <td>9.6</td>\n",
       "      <td>In 1984, while British new romantics like Dura...</td>\n",
       "    </tr>\n",
       "    <tr>\n",
       "      <th>8</th>\n",
       "      <td>Promise</td>\n",
       "      <td>Sade</td>\n",
       "      <td>Naima Cochrane</td>\n",
       "      <td>2020-10-09T05:00:00</td>\n",
       "      <td>/reviews/albums/rilo-kiley-rilo-kiley/</td>\n",
       "      <td>Pop/R&amp;B</td>\n",
       "      <td>9.0</td>\n",
       "      <td>High gloss, high glam, and high production-val...</td>\n",
       "    </tr>\n",
       "    <tr>\n",
       "      <th>9</th>\n",
       "      <td>Lovers Rock</td>\n",
       "      <td>Sade</td>\n",
       "      <td>Rawiya Kameir</td>\n",
       "      <td>2020-10-09T05:00:00</td>\n",
       "      <td>/reviews/albums/rilo-kiley-rilo-kiley/</td>\n",
       "      <td>Pop/R&amp;B</td>\n",
       "      <td>8.7</td>\n",
       "      <td>Even on Sade’s official website, you have to d...</td>\n",
       "    </tr>\n",
       "  </tbody>\n",
       "</table>\n",
       "</div>"
      ],
      "text/plain": [
       "                                       album                artist  \\\n",
       "0                                     Lament          Touché Amoré   \n",
       "1                                Soundkeeper   Gunn-Truscinski Duo   \n",
       "2                                 Nothing EP         Loraine James   \n",
       "3  Love Touched Time and Time Began to Sweat        Pool Holograph   \n",
       "4                           Innercity Griots  Freestyle Fellowship   \n",
       "5   Hybrid Theory (20th Anniversary Edition)           Linkin Park   \n",
       "6   The Seeds of Love (Super Deluxe Edition)       Tears for Fears   \n",
       "7                               Diamond Life                  Sade   \n",
       "8                                    Promise                  Sade   \n",
       "9                                Lovers Rock                  Sade   \n",
       "\n",
       "            reviwer          review_date  \\\n",
       "0         Ian Cohen  2020-10-12T05:00:00   \n",
       "1      Sam Sodomsky  2020-10-12T05:00:00   \n",
       "2  Philip Sherburne  2020-10-12T05:00:00   \n",
       "3     Steven Arroyo  2020-10-12T05:00:00   \n",
       "4  Rollie Pemberton  2020-10-11T05:00:00   \n",
       "5    Gabriel Szatan  2020-10-10T05:00:00   \n",
       "6       Alfred Soto  2020-10-10T05:00:00   \n",
       "7       Clover Hope  2020-10-09T05:00:00   \n",
       "8    Naima Cochrane  2020-10-09T05:00:00   \n",
       "9     Rawiya Kameir  2020-10-09T05:00:00   \n",
       "\n",
       "                                     link          genero rating  \\\n",
       "0  /reviews/albums/rilo-kiley-rilo-kiley/  Best New Album    8.2   \n",
       "1  /reviews/albums/rilo-kiley-rilo-kiley/    Experimental    7.5   \n",
       "2  /reviews/albums/rilo-kiley-rilo-kiley/      Electronic    7.9   \n",
       "3  /reviews/albums/rilo-kiley-rilo-kiley/            Rock    7.1   \n",
       "4  /reviews/albums/rilo-kiley-rilo-kiley/             Rap    9.0   \n",
       "5  /reviews/albums/rilo-kiley-rilo-kiley/            Rock    7.6   \n",
       "6  /reviews/albums/rilo-kiley-rilo-kiley/            Rock    7.2   \n",
       "7  /reviews/albums/rilo-kiley-rilo-kiley/         Pop/R&B    9.6   \n",
       "8  /reviews/albums/rilo-kiley-rilo-kiley/         Pop/R&B    9.0   \n",
       "9  /reviews/albums/rilo-kiley-rilo-kiley/         Pop/R&B    8.7   \n",
       "\n",
       "                                      review_content  \n",
       "0  Featured Tracks:Play Track“Reminders” — Touché...  \n",
       "1  Featured Tracks:Play Track“For Eddie Hazel” — ...  \n",
       "2  Featured Tracks:Play Track“Marg” [ft. Tardast]...  \n",
       "3  Featured Tracks:Play Track“Medieval Heart” — P...  \n",
       "4  A couple decades before Kendrick Lamar galvani...  \n",
       "5  Chester Bennington was 41 years old when he lo...  \n",
       "6  To transform from a bedsit synth-pop outfit wi...  \n",
       "7  In 1984, while British new romantics like Dura...  \n",
       "8  High gloss, high glam, and high production-val...  \n",
       "9  Even on Sade’s official website, you have to d...  "
      ]
     },
     "execution_count": 18,
     "metadata": {},
     "output_type": "execute_result"
    }
   ],
   "source": [
    "data.head(10)"
   ]
  },
  {
   "cell_type": "markdown",
   "metadata": {},
   "source": [
    "#### Exports final dataset into csv"
   ]
  },
  {
   "cell_type": "code",
   "execution_count": 20,
   "metadata": {},
   "outputs": [],
   "source": [
    "data.to_csv('Reviews_content2.csv')"
   ]
  },
  {
   "cell_type": "code",
   "execution_count": 21,
   "metadata": {},
   "outputs": [
    {
     "data": {
      "text/plain": [
       "(36, 8)"
      ]
     },
     "execution_count": 21,
     "metadata": {},
     "output_type": "execute_result"
    }
   ],
   "source": [
    "data.shape"
   ]
  }
 ],
 "metadata": {
  "kernelspec": {
   "display_name": "Python 3",
   "language": "python",
   "name": "python3"
  },
  "language_info": {
   "codemirror_mode": {
    "name": "ipython",
    "version": 3
   },
   "file_extension": ".py",
   "mimetype": "text/x-python",
   "name": "python",
   "nbconvert_exporter": "python",
   "pygments_lexer": "ipython3",
   "version": "3.8.3"
  }
 },
 "nbformat": 4,
 "nbformat_minor": 4
}
